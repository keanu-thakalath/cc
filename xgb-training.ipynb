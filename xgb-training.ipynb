{
 "cells": [
  {
   "cell_type": "code",
   "execution_count": 1,
   "id": "99bb0597",
   "metadata": {},
   "outputs": [],
   "source": [
    "from csr import CSRDataset, CSRGridSearcher, CSRModel"
   ]
  },
  {
   "cell_type": "code",
   "execution_count": 2,
   "id": "f55c4f10",
   "metadata": {},
   "outputs": [],
   "source": [
    "def mean(l):\n",
    "    return sum(l) / len(l)\n",
    "\n",
    "def std(l):\n",
    "    m = mean(l)\n",
    "    return mean([(x - m) ** 2 for x in l]) ** (1 / 2)\n",
    "\n",
    "def ptp(p):\n",
    "    return f'{round(100 * p, 3)}%'"
   ]
  },
  {
   "cell_type": "code",
   "execution_count": 3,
   "id": "21eeeff1",
   "metadata": {},
   "outputs": [],
   "source": [
    "dataset = CSRDataset('csr.avro')"
   ]
  },
  {
   "cell_type": "code",
   "execution_count": 4,
   "id": "8fad2603",
   "metadata": {
    "scrolled": true
   },
   "outputs": [
    {
     "name": "stdout",
     "output_type": "stream",
     "text": [
      "Searching through 1 parameter sets\n",
      "Evaluating parameter set 1\n",
      "Done searching\n"
     ]
    }
   ],
   "source": [
    "n_splits = 5\n",
    "default_params = {'eta': .05, 'objective': 'multi:softproba', 'num_class': 3, 'eval_metric': ['auc'], 'tree_method': 'gpu_hist', 'n_estimators': 1000, 'early_stopping_rounds': 40}\n",
    "\n",
    "# each parameter has a list that will be combined with the other parameters to search through every possible combination of parameters\n",
    "\n",
    "grid = {'lambda': [20],\n",
    "        'subsample': [.5],\n",
    "        'gamma': [1],\n",
    "        'colsample_bytree': [.9],\n",
    "        'colsample_bylevel': [.6],\n",
    "        'min_child_weight': [0],\n",
    "        'max_depth': [2]}\n",
    "\n",
    "grid_searcher = CSRGridSearcher(default_params, grid, dataset)\n",
    "grid_searcher.grid_search(n_splits)"
   ]
  },
  {
   "cell_type": "code",
   "execution_count": 5,
   "id": "88566ec2",
   "metadata": {},
   "outputs": [
    {
     "data": {
      "text/plain": [
       "{'lambda': 20,\n",
       " 'subsample': 0.5,\n",
       " 'gamma': 1,\n",
       " 'colsample_bytree': 0.9,\n",
       " 'colsample_bylevel': 0.6,\n",
       " 'min_child_weight': 0,\n",
       " 'max_depth': 2}"
      ]
     },
     "execution_count": 5,
     "metadata": {},
     "output_type": "execute_result"
    }
   ],
   "source": [
    "grid_searcher.best_params()"
   ]
  },
  {
   "cell_type": "code",
   "execution_count": 6,
   "id": "487b8707",
   "metadata": {},
   "outputs": [
    {
     "data": {
      "text/plain": [
       "{2: (0.6979063284477632, 0.01385193109253965)}"
      ]
     },
     "execution_count": 6,
     "metadata": {},
     "output_type": "execute_result"
    }
   ],
   "source": [
    "grid_searcher.param_metrics('max_depth')"
   ]
  },
  {
   "cell_type": "code",
   "execution_count": 7,
   "id": "55ecc5c5",
   "metadata": {},
   "outputs": [],
   "source": [
    "# train 5 models and combine them for consistent results\n",
    "model = CSRModel(dataset, 5, ensemble=True)\n",
    "\n",
    "model.load('website/model')\n",
    "\n",
    "# data_X, data_Y = model.train(default_params | grid_searcher.best_params())\n",
    "# model.save('website/model')"
   ]
  },
  {
   "cell_type": "code",
   "execution_count": 8,
   "id": "55b3c1a9",
   "metadata": {},
   "outputs": [
    {
     "name": "stdout",
     "output_type": "stream",
     "text": [
      "Average score assigned to correct class: 52.718%\n",
      "Average std of score assigned to correct class: 16.039%\n",
      "Accuracy: 68.434%\n",
      "Sensitivity / TPR: 85.971%\n",
      "Specificity / TNR: 44.176%\n",
      "P(approval|predicts approval): 71.005%\n",
      "P(pending/denied|predicts pending/denied): 66.446%\n"
     ]
    }
   ],
   "source": [
    "# training as ensemble leaves data_X and data_Y as None, so get model performance on the entire dataset\n",
    "# the model already trained on the dataset so the results here will be better than what they actually are\n",
    "data_X, data_Y = dataset.separate_input_target(dataset.db_index())\n",
    "\n",
    "proba = model.predict_proba(data_X)\n",
    "correct_class_scores = [proba[i][data_Y.iloc[i]] for i in range(len(data_Y))]\n",
    "print(f'Average score assigned to correct class: {ptp(mean(correct_class_scores))}')\n",
    "print(f'Average std of score assigned to correct class: {ptp(std(correct_class_scores))}')\n",
    "\n",
    "pred = model.predict(data_X)\n",
    "print(f'Accuracy: {ptp(mean([pred[i] == data_Y.iloc[i] for i in range(len(data_Y))]))}')\n",
    "\n",
    "T_idx = 2\n",
    "\n",
    "P = pred[data_Y == T_idx]\n",
    "TP = (P == T_idx).sum()\n",
    "TPR = TP / len(P)\n",
    "print(f'Sensitivity / TPR: {ptp(TPR)}')\n",
    "\n",
    "N = pred[data_Y != T_idx]\n",
    "TN = (N != T_idx).sum()\n",
    "TNR = TN / len(N)\n",
    "print(f'Specificity / TNR: {ptp(TNR)}')\n",
    "\n",
    "# bayes' theorem\n",
    "P_pos = sum(data_Y == T_idx) / len(data_Y)\n",
    "P_pos_pred = (TP + len(N) - TN) / (len(P) + len(N))\n",
    "print(f'P(approval|predicts approval): {ptp(TPR * P_pos / P_pos_pred)}')\n",
    "print(f'P(pending/denied|predicts pending/denied): {ptp(TNR * (1 - P_pos) / (1 - P_pos_pred))}')"
   ]
  },
  {
   "cell_type": "code",
   "execution_count": null,
   "id": "d6f0fe92",
   "metadata": {},
   "outputs": [],
   "source": []
  }
 ],
 "metadata": {
  "kernelspec": {
   "display_name": "Python 3 (ipykernel)",
   "language": "python",
   "name": "python3"
  },
  "language_info": {
   "codemirror_mode": {
    "name": "ipython",
    "version": 3
   },
   "file_extension": ".py",
   "mimetype": "text/x-python",
   "name": "python",
   "nbconvert_exporter": "python",
   "pygments_lexer": "ipython3",
   "version": "3.10.0"
  }
 },
 "nbformat": 4,
 "nbformat_minor": 5
}
